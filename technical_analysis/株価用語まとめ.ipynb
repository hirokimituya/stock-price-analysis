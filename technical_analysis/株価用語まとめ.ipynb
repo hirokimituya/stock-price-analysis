{
  "nbformat": 4,
  "nbformat_minor": 0,
  "metadata": {
    "colab": {
      "provenance": [],
      "authorship_tag": "ABX9TyPzVO0exmC1unlYtWeJeviD",
      "include_colab_link": true
    },
    "kernelspec": {
      "name": "python3",
      "display_name": "Python 3"
    },
    "language_info": {
      "name": "python"
    }
  },
  "cells": [
    {
      "cell_type": "markdown",
      "metadata": {
        "id": "view-in-github",
        "colab_type": "text"
      },
      "source": [
        "<a href=\"https://colab.research.google.com/github/hirokimituya/stock-price-analysis/blob/main/technical_analysis/%E6%A0%AA%E4%BE%A1%E7%94%A8%E8%AA%9E%E3%81%BE%E3%81%A8%E3%82%81.ipynb\" target=\"_parent\"><img src=\"https://colab.research.google.com/assets/colab-badge.svg\" alt=\"Open In Colab\"/></a>"
      ]
    },
    {
      "cell_type": "markdown",
      "source": [
        "# Pythonでできる！株価データ分析という書籍から引用\n",
        "\n"
      ],
      "metadata": {
        "id": "uxX8LsckOklH"
      }
    },
    {
      "cell_type": "markdown",
      "source": [
        "# 株価用語\n",
        "\n",
        "# 株価分析に必要な用語\n",
        "\n",
        "| 名称 | 意味 |\n",
        "| --- | --- |\n",
        "| 株価（Stock price） | 売買が成立したときの価格 |\n",
        "| 銘柄（Stock symbol） | 株式を発行する企業名のこと |\n",
        "| 銘柄コード（Stock code） | 上場企業に割り当てられている4桁の番号 |\n",
        "| 始値（Open） | ある期間の中で、初めて取引された株価 |\n",
        "| 高値（High） | ある期間の中で、一番高い株価 |\n",
        "| 安値（Low） | ある期間の中で、一番低い株価 |\n",
        "| 終値（Close） | ある期間の中で、最後に取引された株価 |\n",
        "| 出来高（Volume） | ある期間の中で、成立した売買数 |\n",
        "\n",
        "# 株価データ\n",
        "\n",
        "「始値／高値／安値／終値」の中で最も重視するのは終値。なぜかというと終値は、明日どのように株価が動くかと言う判断に最も関連する価格だから。\n",
        "\n",
        "| 名称 | 意味 |\n",
        "| --- | --- |\n",
        "| OHLC | 始値（Open）／高値（High）／安値（Low）／終値（Close）をまとめたもの |\n",
        "| OHLCV | OHLCに出来高（Volume）を加えたもの |\n",
        "\n",
        "# 株価チャート\n",
        "\n",
        "## 移動平均線（Moving Average）\n",
        "\n",
        "一定期間の株価の終値から平均値を計算して折れ線グラフで表したもの\n",
        "\n",
        "株価の大まかな動きをつかみ、これから上がる／下がる／変わらないといった方向性を見るために利用される代表的なチャート\n",
        "\n",
        "| 名前 | 概要 | 特徴 |\n",
        "| --- | --- | --- |\n",
        "| 単純移動平均線（Simple Moving Average: SMA） | 一定期間を対象にして算出 | どの機関を見ても計算方法が同じ |\n",
        "| 加重移動平均線（Weighted Moving Average: WMA） | 最新の株価に比重を置き、過去の株価ほど比重が小さくなるように算出 | 株価変動に対して反応が早い |\n",
        "| 指数平滑移動平均線（Exponential Moving Average: EMA） | 最新の株価に比重を置き、過去の株価ほど比重が小さくなるように平滑化係数を利用して算出 | 株価変動に対して最も反応が早い |\n",
        "\n",
        "## ローソク足チャート\n",
        "\n",
        "一定の時間内での始値、高値、安値、終値を1本の棒状グラフに表示したもの。\n",
        "\n",
        "始値に比べて終値が高い場合を陽線、始値に比べて終値が低い場合を陰線という。\n",
        "\n",
        "一般的には、陽線を明るい色、陰線を暗い色で表示する。\n",
        "\n",
        "![ローソク足1.webp](https://user-images.githubusercontent.com/81066421/229648560-47b51c16-f7cb-49cd-b7d2-36a79e4e1508.jpeg)\n",
        "\n",
        "![ローソク足2.jpeg](https://user-images.githubusercontent.com/81066421/229648371-15ba0165-ac9f-4bb0-bf18-112fa7301589.jpeg)"
      ],
      "metadata": {
        "id": "_n8fdyP3nEUs"
      }
    }
  ]
}