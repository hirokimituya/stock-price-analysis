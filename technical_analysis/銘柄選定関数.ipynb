{
  "nbformat": 4,
  "nbformat_minor": 0,
  "metadata": {
    "colab": {
      "provenance": [],
      "authorship_tag": "ABX9TyOq0LSzl+1WIuqJCYHADumQ",
      "include_colab_link": true
    },
    "kernelspec": {
      "name": "python3",
      "display_name": "Python 3"
    },
    "language_info": {
      "name": "python"
    }
  },
  "cells": [
    {
      "cell_type": "markdown",
      "metadata": {
        "id": "view-in-github",
        "colab_type": "text"
      },
      "source": [
        "<a href=\"https://colab.research.google.com/github/hirokimituya/stock-price-analysis/blob/main/technical_analysis/%E9%8A%98%E6%9F%84%E9%81%B8%E5%AE%9A%E9%96%A2%E6%95%B0.ipynb\" target=\"_parent\"><img src=\"https://colab.research.google.com/assets/colab-badge.svg\" alt=\"Open In Colab\"/></a>"
      ]
    },
    {
      "cell_type": "code",
      "source": [
        "# Google Colaboratoryに画像を保存できるように設定\n",
        "import os\n",
        "from google.colab import drive\n",
        "drive.mount('/content/drive')\n",
        "os.chdir('/content/drive/MyDrive/')"
      ],
      "metadata": {
        "colab": {
          "base_uri": "https://localhost:8080/"
        },
        "id": "Po1WeTNda5UG",
        "outputId": "16d26fa4-ca8a-488a-ebc3-65e52b1161f1"
      },
      "execution_count": 4,
      "outputs": [
        {
          "output_type": "stream",
          "name": "stdout",
          "text": [
            "Mounted at /content/drive\n"
          ]
        }
      ]
    },
    {
      "cell_type": "code",
      "execution_count": 18,
      "metadata": {
        "colab": {
          "base_uri": "https://localhost:8080/"
        },
        "id": "pofTPzaIT9NJ",
        "outputId": "326e7285-390c-4359-c33f-1279877c7150"
      },
      "outputs": [
        {
          "output_type": "stream",
          "name": "stdout",
          "text": [
            "             日付             銘柄名     コード      業種 JPX日経400に占める個別銘柄のウェイト\n",
            "0    2023/03/31            ニッスイ  1332.0  水産・農林業               0.0365%\n",
            "1    2023/03/31    ウエストホールディングス  1407.0     建設業               0.0214%\n",
            "2    2023/03/31  ショーボンドホールディングス  1414.0     建設業               0.0502%\n",
            "3    2023/03/31         ミライト・ワン  1417.0     建設業               0.0367%\n",
            "4    2023/03/31           ＩＮＰＥＸ  1605.0      鉱業               0.3475%\n",
            "..          ...             ...     ...     ...                   ...\n",
            "394  2023/03/31     ニトリホールディングス  9843.0     小売業               0.3270%\n",
            "395  2023/03/31       ミスミグループ本社  9962.0     卸売業               0.2527%\n",
            "396  2023/03/31     ファーストリテイリング  9983.0     小売業               0.6594%\n",
            "397  2023/03/31      ソフトバンクグループ  9984.0  情報・通信業               1.2202%\n",
            "398  2023/03/31          サンドラッグ  9989.0     小売業               0.0700%\n",
            "\n",
            "[399 rows x 5 columns]\n"
          ]
        }
      ],
      "source": [
        "import requests\n",
        "url = \"https://indexes.nikkei.co.jp/nkave/archives/file/jpx_nikkei_index_400_weight_jp.csv\"\n",
        "r = requests.get(url)\n",
        "with open('jpx_nikkei_index_400_weight_jp.csv', 'wb') as output:\n",
        "    output.write(r.content)\n",
        "\n",
        "import pandas as pd\n",
        "df = pd.read_csv(\"./jpx_nikkei_index_400_weight_jp.csv\", encoding='shift_jis')\n",
        "df = df.iloc[:-1]   # 最後の行は説明文のため除外\n",
        "print(df)"
      ]
    },
    {
      "cell_type": "code",
      "source": [],
      "metadata": {
        "id": "1vlmofckWwa7"
      },
      "execution_count": null,
      "outputs": []
    }
  ]
}