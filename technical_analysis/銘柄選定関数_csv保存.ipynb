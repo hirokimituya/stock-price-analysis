{
  "nbformat": 4,
  "nbformat_minor": 0,
  "metadata": {
    "colab": {
      "provenance": [],
      "authorship_tag": "ABX9TyMhWn5g6zhG8KubM5/rde/H",
      "include_colab_link": true
    },
    "kernelspec": {
      "name": "python3",
      "display_name": "Python 3"
    },
    "language_info": {
      "name": "python"
    }
  },
  "cells": [
    {
      "cell_type": "markdown",
      "metadata": {
        "id": "view-in-github",
        "colab_type": "text"
      },
      "source": [
        "<a href=\"https://colab.research.google.com/github/hirokimituya/stock-price-analysis/blob/main/technical_analysis/%E9%8A%98%E6%9F%84%E9%81%B8%E5%AE%9A%E9%96%A2%E6%95%B0_csv%E4%BF%9D%E5%AD%98.ipynb\" target=\"_parent\"><img src=\"https://colab.research.google.com/assets/colab-badge.svg\" alt=\"Open In Colab\"/></a>"
      ]
    },
    {
      "cell_type": "code",
      "execution_count": 36,
      "metadata": {
        "colab": {
          "base_uri": "https://localhost:8080/"
        },
        "id": "QARewpMoBMSX",
        "outputId": "4c979384-f7f6-4a67-ac6e-985e129dd5a7"
      },
      "outputs": [
        {
          "output_type": "stream",
          "name": "stdout",
          "text": [
            "Drive already mounted at /content/drive; to attempt to forcibly remount, call drive.mount(\"/content/drive\", force_remount=True).\n"
          ]
        }
      ],
      "source": [
        "# Google Colaboratoryに画像を保存できるように設定\n",
        "import os\n",
        "from google.colab import drive\n",
        "drive.mount('/content/drive')\n",
        "os.chdir('/content/drive/MyDrive/株式投資')"
      ]
    },
    {
      "cell_type": "code",
      "source": [
        "# Ta-Libの代替としてpandas_taを利用している。Ta-Libの関数名を小文字にしたものがあるイメージ\n",
        "!pip install pandas_ta"
      ],
      "metadata": {
        "colab": {
          "base_uri": "https://localhost:8080/"
        },
        "id": "5w1YuVSYBVm7",
        "outputId": "dff72472-9d62-4638-848f-e65a2f82e2b7"
      },
      "execution_count": 2,
      "outputs": [
        {
          "output_type": "stream",
          "name": "stdout",
          "text": [
            "Looking in indexes: https://pypi.org/simple, https://us-python.pkg.dev/colab-wheels/public/simple/\n",
            "Requirement already satisfied: pandas_ta in /usr/local/lib/python3.10/dist-packages (0.3.14b0)\n",
            "Requirement already satisfied: pandas in /usr/local/lib/python3.10/dist-packages (from pandas_ta) (1.5.3)\n",
            "Requirement already satisfied: python-dateutil>=2.8.1 in /usr/local/lib/python3.10/dist-packages (from pandas->pandas_ta) (2.8.2)\n",
            "Requirement already satisfied: pytz>=2020.1 in /usr/local/lib/python3.10/dist-packages (from pandas->pandas_ta) (2022.7.1)\n",
            "Requirement already satisfied: numpy>=1.21.0 in /usr/local/lib/python3.10/dist-packages (from pandas->pandas_ta) (1.22.4)\n",
            "Requirement already satisfied: six>=1.5 in /usr/local/lib/python3.10/dist-packages (from python-dateutil>=2.8.1->pandas->pandas_ta) (1.16.0)\n"
          ]
        }
      ]
    },
    {
      "cell_type": "code",
      "source": [
        "!pip install yahoo_finance_api2"
      ],
      "metadata": {
        "colab": {
          "base_uri": "https://localhost:8080/"
        },
        "id": "APLq6P1yBWAw",
        "outputId": "94c0c83d-69c5-4f1a-dd06-11077ba056a7"
      },
      "execution_count": 3,
      "outputs": [
        {
          "output_type": "stream",
          "name": "stdout",
          "text": [
            "Looking in indexes: https://pypi.org/simple, https://us-python.pkg.dev/colab-wheels/public/simple/\n",
            "Requirement already satisfied: yahoo_finance_api2 in /usr/local/lib/python3.10/dist-packages (0.0.12)\n",
            "Requirement already satisfied: pyyaml in /usr/local/lib/python3.10/dist-packages (from yahoo_finance_api2) (6.0)\n",
            "Requirement already satisfied: requests in /usr/local/lib/python3.10/dist-packages (from yahoo_finance_api2) (2.27.1)\n",
            "Requirement already satisfied: urllib3<1.27,>=1.21.1 in /usr/local/lib/python3.10/dist-packages (from requests->yahoo_finance_api2) (1.26.15)\n",
            "Requirement already satisfied: certifi>=2017.4.17 in /usr/local/lib/python3.10/dist-packages (from requests->yahoo_finance_api2) (2022.12.7)\n",
            "Requirement already satisfied: charset-normalizer~=2.0.0 in /usr/local/lib/python3.10/dist-packages (from requests->yahoo_finance_api2) (2.0.12)\n",
            "Requirement already satisfied: idna<4,>=2.5 in /usr/local/lib/python3.10/dist-packages (from requests->yahoo_finance_api2) (3.4)\n"
          ]
        }
      ]
    },
    {
      "cell_type": "markdown",
      "source": [
        "# 銘柄コードから株価情報を取得する関数"
      ],
      "metadata": {
        "id": "NTj_0-QoBxHy"
      }
    },
    {
      "cell_type": "code",
      "source": [
        "from yahoo_finance_api2 import share as yapi2\n",
        "from yahoo_finance_api2.exceptions import YahooFinanceError\n",
        "import datetime as dt\n",
        "from datetime import date,timedelta\n",
        "import pandas as pd\n",
        "\n",
        "# 株価データを取得するメソッド\n",
        "def get_stock_data_yapi2(code, period_type='year', period=10):\n",
        "    \"\"\"株価データを取得する\n",
        "\n",
        "    :param code: 取得する株価データの銘柄コード\n",
        "    :param period_type: 取得する株価データの期間の単位（例: 'year', 'month', 'week', 'day'）\n",
        "    :param period: 取得する株価データの期間の数値\n",
        "    :return: 株価データのデータフレーム（もし株価データが存在しない場合は、None）\n",
        "    \"\"\"\n",
        "    if period_type == 'month':\n",
        "        period_type_value = yapi2.PERIOD_TYPE_MONTH\n",
        "    elif period_type == 'week':\n",
        "        period_type_value = yapi2.PERIOD_TYPE_WEEK\n",
        "    elif period_type == 'day':\n",
        "        period_type_value = yapi2.PERIOD_TYPE_DAY\n",
        "    else:\n",
        "        period_type_value = yapi2.PERIOD_TYPE_YEAR\n",
        "\n",
        "    try:\n",
        "        data = yapi2.Share(f'{code}.T').get_historical(\n",
        "            period_type_value,\n",
        "            period,\n",
        "            yapi2.FREQUENCY_TYPE_DAY,\n",
        "            1\n",
        "        )\n",
        "    except YahooFinanceError as e:\n",
        "        print(e.message)\n",
        "        print(f'銘柄コード[{code}]の株価情報を取得できなかったため、スキップしました。')\n",
        "        return None\n",
        "\n",
        "    df = pd.DataFrame(data)\n",
        "\n",
        "    try:\n",
        "        # タイムスタンプをDateTime型に変更\n",
        "        df['datetime'] = pd.to_datetime(df['timestamp'], unit='ms')\n",
        "    except KeyError as e:\n",
        "        print(e)\n",
        "        print(f'銘柄コード[{code}]の株価情報を取得できなかったため、スキップしました。')\n",
        "        return None\n",
        "\n",
        "    # 日本時間へ変換\n",
        "    df['Date'] = df['datetime'] + dt.timedelta(hours=9)\n",
        "\n",
        "    # インデックスをDateカラムに設定\n",
        "    df.index = pd.to_datetime(df['Date'].dt.date)\n",
        "\n",
        "    # 不要なカラムを削除\n",
        "    del df['Date'], df['datetime'], df['timestamp']\n",
        "\n",
        "    # 各カラムの最初の文字を大文字に変換\n",
        "    for col in df.columns:\n",
        "        df[f'{col.capitalize()}'] = df[col]\n",
        "        del df[col]\n",
        "\n",
        "    return df"
      ],
      "metadata": {
        "id": "m2WHFFHEBxYQ"
      },
      "execution_count": 4,
      "outputs": []
    },
    {
      "cell_type": "markdown",
      "source": [
        "# 東証上場の銘柄一覧を取得する関数（ダウンロードはしない）"
      ],
      "metadata": {
        "id": "eXqUhkScB58H"
      }
    },
    {
      "cell_type": "code",
      "source": [
        "from pandas.io.formats.info import DataFrameTableBuilderNonVerbose\n",
        "import requests\n",
        "import pandas as pd\n",
        "\n",
        "def get_ticker_tse(segment='prime'):\n",
        "    \"\"\"東証上場の銘柄コード一覧を取得する\n",
        "\n",
        "    :param segment: 東証上場の市場区分（例: 'prime' or 'standard' or 'grows'）\n",
        "    :return: 東証上場の銘柄コード一覧\n",
        "    \"\"\"\n",
        "    segments = {\n",
        "        'prime': 'プライム',\n",
        "        'standard': 'スタンダード',\n",
        "        'grows': 'グロース'\n",
        "    }\n",
        "\n",
        "    if segment not in segments:\n",
        "        raise Exception(\"get_ticker_tse関数のsegment引数の値は'prime', 'standard', 'grows'のいずれかにしてください\")\n",
        "\n",
        "    # サイトからダウンロードしないようにコメントアウト\n",
        "    #url = \"https://www.jpx.co.jp/markets/statistics-equities/misc/tvdivq0000001vg2-att/data_j.xls\"\n",
        "    #r = requests.get(url)\n",
        "    #with open('data_j.xls', 'wb') as output:\n",
        "    #    output.write(r.content)\n",
        "\n",
        "    df = pd.read_excel(\"./data/data_j.xls\")\n",
        "\n",
        "    # 引数の市場区分のみに絞り込み\n",
        "    df = df[df['市場・商品区分'].str.startswith(segments[segment])]\n",
        "\n",
        "    # カラムの削除とカラム名変更\n",
        "    df = df[['銘柄名', 'コード', '33業種区分']]   # 必要なカラムのみにする\n",
        "    df = df.rename(columns={'33業種区分': '業種'})\n",
        "    df['コード'] = df['コード'].astype(int) # コードを整数に変更\n",
        "\n",
        "    return df"
      ],
      "metadata": {
        "id": "1rAZvf5mB6Dd"
      },
      "execution_count": 37,
      "outputs": []
    },
    {
      "cell_type": "markdown",
      "source": [
        "# 株価情報を出来高や株価、パーフェクトオーダーでフィルタリングする関数"
      ],
      "metadata": {
        "id": "b09LjzOBCOuh"
      }
    },
    {
      "cell_type": "code",
      "source": [
        "import pandas_ta as ta\n",
        "import math\n",
        "\n",
        "def is_perfect_order(stock_df, mas, period_type='D', reverse=False):\n",
        "    \"\"\"株価情報がパーフェクトオーダーどうかの判定\n",
        "\n",
        "    :param stock_df: 対象の株価情報のデータフレーム\n",
        "    :param mas: 移動平均線に使用するためのリスト（例: [5, 25, 75]）\n",
        "    :param period_type: 期間をどの単位にするか（'W' or 'M'）\n",
        "    :param reverse: 下降トレンドのパーフェクトオーダーを検出する場合は、True / 上昇トレンドの場合は、False\n",
        "    :return: 株価情報がパーフェクトオーダーの場合は、True / それ以外の場合は、False\n",
        "    \"\"\"\n",
        "\n",
        "    df = stock_df.copy()\n",
        "\n",
        "    # 月足、周足にリサンプリング\n",
        "    if period_type in ('M', 'W'):\n",
        "        resampled = df.resample(period_type)\n",
        "        df = resampled.aggregate({'Open': 'first', 'High': 'max', 'Low': 'min', 'Close': 'last', 'Volume': 'sum'})\n",
        "\n",
        "    close = df['Close']\n",
        "\n",
        "    # 移動平均線の算出\n",
        "    for ma in mas:\n",
        "        df[f'ma{ma}{period_type}'] = ta.sma(close, ma)\n",
        "\n",
        "    # パーフェクトオーダーかどうかの判定\n",
        "    conditions = []\n",
        "    try:\n",
        "        if not reverse:\n",
        "            # 上昇トレンド\n",
        "            for i in range(len(mas) - 1):\n",
        "                conditions.append(math.ceil(df[f'ma{mas[i]}{period_type}'].values[-1]) >= math.ceil(df[f'ma{mas[i + 1]}{period_type}'].values[-1]))\n",
        "        else:\n",
        "            # 下降トレンド\n",
        "            for i in range(len(mas) - 1):\n",
        "                conditions.append(math.ceil(df[f'ma{mas[i]}{period_type}'].values[-1]) <= math.ceil(df[f'ma{mas[i + 1]}{period_type}'].values[-1]))\n",
        "    except:\n",
        "        # 株価情報が少なくて移動平均線が取得できない場合は、無条件でFalseでリターンする\n",
        "        return False\n",
        "\n",
        "\n",
        "    result = all(conditions)\n",
        "\n",
        "    return result"
      ],
      "metadata": {
        "id": "WdOPcBvOCRhC"
      },
      "execution_count": 6,
      "outputs": []
    },
    {
      "cell_type": "code",
      "source": [
        "def filtered_ticker(df, min_volume=None, max_price=None, min_price=None, perfect_order={}):\n",
        "    \"\"\"データフレームの銘柄コードから株価情報を取得して、指定された出来高や株価でフィルタリングする\n",
        "\n",
        "    :param df: 対象のデータフレーム\n",
        "    :param min_volume: 出来高の最小値を指定\n",
        "    :param max_price: 株価の最大値を指定\n",
        "    :param min_price: 株価の最小値を指定\n",
        "    :param perfect_order: パーフェクトオーダーの判定に使用する辞書（例: {'mas': [5, 20, 60], 'period_type': 'D', 'reverse': False}）（辞書のキー'mas'のみ必須）\n",
        "    :return: 出来高や株価でフィルタリングしたデータフレーム\n",
        "    \"\"\"\n",
        "    # 空のDataFrameを作成\n",
        "    result_df = pd.DataFrame()\n",
        "\n",
        "    # 各銘柄についてループ\n",
        "    for index, row in df.iterrows():\n",
        "        # コードを取得\n",
        "        code = row['コード']\n",
        "\n",
        "        # 株価情報を取得\n",
        "        if not perfect_order:\n",
        "            stock_data = get_stock_data_yapi2(code, period_type='day', period=2)\n",
        "        else:\n",
        "            largest_mas = perfect_order.get('mas')[-1]\n",
        "            period_type = perfect_order.get('period_type', 'D')\n",
        "            if period_type == 'D':\n",
        "                period = math.ceil(largest_mas / 15)\n",
        "                stock_data = get_stock_data_yapi2(code, period_type='month', period=period)\n",
        "            elif period_type == 'W':\n",
        "                period = math.ceil(largest_mas * 7 / 365)\n",
        "                stock_data = get_stock_data_yapi2(code, period_type='year', period=period)\n",
        "            elif period_type == 'M':\n",
        "                period = math.ceil(largest_mas / 10)\n",
        "                stock_data = get_stock_data_yapi2(code, period_type='year', period=period)\n",
        "            else:\n",
        "                raise ValueError('引数perfect_orderは\"D\"か\"W\"か\"M\"のいずれかを指定してください')\n",
        "        # 株価情報が取得できなかったら、次の銘柄コードに遷移\n",
        "        if stock_data is None:\n",
        "            continue\n",
        "\n",
        "        # 出来高の条件に合わない場合、次の銘柄コードに遷移\n",
        "        volume = stock_data['Volume'][-1]\n",
        "        if min_volume is not None and volume < min_volume:\n",
        "            continue\n",
        "\n",
        "        # 価格の条件に合わない場合、次の銘柄コードに遷移\n",
        "        price = stock_data['Close'][-1]\n",
        "        if max_price is not None and price > max_price:\n",
        "            continue\n",
        "        if min_price is not None and price < min_price:\n",
        "            continue\n",
        "\n",
        "        # パーフェクトオーダーの条件に合わない場合、次の銘柄コードに遷移\n",
        "        if perfect_order:\n",
        "            mas = perfect_order.get('mas')\n",
        "            period_type = perfect_order.get('period_type', 'D')\n",
        "            reverse = perfect_order.get('reverse', False)\n",
        "            if not is_perfect_order(stock_data, mas=mas, period_type=period_type, reverse=reverse):\n",
        "                continue\n",
        "\n",
        "        # 銘柄名と業種を設定\n",
        "        filtered_df = pd.DataFrame({\n",
        "            '銘柄名': [row['銘柄名']],\n",
        "            'コード': [code],\n",
        "            '業種': [row['業種']],\n",
        "            '出来高': [volume],\n",
        "            '株価': [price],\n",
        "        }, index=[index])\n",
        "\n",
        "        # 結果をresult_dfに追加\n",
        "        result_df = pd.concat([result_df, filtered_df])\n",
        "\n",
        "    return result_df"
      ],
      "metadata": {
        "id": "dLvHKaQxCUnX"
      },
      "execution_count": 7,
      "outputs": []
    },
    {
      "cell_type": "markdown",
      "source": [
        "# CSVに保存する関数"
      ],
      "metadata": {
        "id": "squLkDdTGxbU"
      }
    },
    {
      "cell_type": "code",
      "source": [
        "import datetime as dt\n",
        "import os\n",
        "\n",
        "def save_df_as_csv(df, filename):\n",
        "    \"\"\"データフレームをCSVファイルとして保存する\n",
        "\n",
        "    :param df: 対象のデータフレーム\n",
        "    :param filename: 保存するcsvファイル名\n",
        "    \"\"\"\n",
        "    # ディレクトリ名作成（YYYYMMDD_screening）\n",
        "    now = dt.datetime.now().strftime(\"%Y%m%d\")\n",
        "    directory = f'{now}_screening'\n",
        "\n",
        "    # もしディレクトリが存在しなければ、作成する\n",
        "    if not os.path.exists(directory):\n",
        "        os.makedirs(directory)\n",
        "\n",
        "    # データフレームをCSVに保存する\n",
        "    df.to_csv(f'{directory}/{filename}.csv', index=False)"
      ],
      "metadata": {
        "id": "dLC48X23GxFr"
      },
      "execution_count": 42,
      "outputs": []
    },
    {
      "cell_type": "markdown",
      "source": [
        "# 東証プライムをフィルタリングしてCSVとして保存"
      ],
      "metadata": {
        "id": "jncB7BPUCmIq"
      }
    },
    {
      "cell_type": "code",
      "source": [
        "# 東証プライム市場の銘柄コードを取得\n",
        "tse_prime = get_ticker_tse('prime')\n",
        "tse_prime"
      ],
      "metadata": {
        "colab": {
          "base_uri": "https://localhost:8080/",
          "height": 458
        },
        "id": "GN36JVwTCh4V",
        "outputId": "0e90d38a-7888-4ebb-973e-0dcca1d058fb"
      },
      "execution_count": 38,
      "outputs": [
        {
          "output_type": "stream",
          "name": "stderr",
          "text": [
            "/usr/local/lib/python3.10/dist-packages/openpyxl/worksheet/_reader.py:312: UserWarning: Unknown extension is not supported and will be removed\n",
            "  warn(msg)\n"
          ]
        },
        {
          "output_type": "execute_result",
          "data": {
            "text/plain": [
              "                  銘柄名   コード      業種\n",
              "0                  極洋  1301  水産・農林業\n",
              "16               ニッスイ  1332  水産・農林業\n",
              "17             マルハニチロ  1333  水産・農林業\n",
              "33             雪国まいたけ  1375  水産・農林業\n",
              "35             サカタのタネ  1377  水産・農林業\n",
              "...               ...   ...     ...\n",
              "4262           サンドラッグ  9989     小売業\n",
              "4263  サックスバー　ホールディングス  9990     小売業\n",
              "4264             ジェコス  9991     卸売業\n",
              "4267            グローセル  9995     卸売業\n",
              "4269             ベルーナ  9997     小売業\n",
              "\n",
              "[1836 rows x 3 columns]"
            ],
            "text/html": [
              "\n",
              "  <div id=\"df-6ae146d4-2cdf-41ca-8a69-1c2e9dcdd167\">\n",
              "    <div class=\"colab-df-container\">\n",
              "      <div>\n",
              "<style scoped>\n",
              "    .dataframe tbody tr th:only-of-type {\n",
              "        vertical-align: middle;\n",
              "    }\n",
              "\n",
              "    .dataframe tbody tr th {\n",
              "        vertical-align: top;\n",
              "    }\n",
              "\n",
              "    .dataframe thead th {\n",
              "        text-align: right;\n",
              "    }\n",
              "</style>\n",
              "<table border=\"1\" class=\"dataframe\">\n",
              "  <thead>\n",
              "    <tr style=\"text-align: right;\">\n",
              "      <th></th>\n",
              "      <th>銘柄名</th>\n",
              "      <th>コード</th>\n",
              "      <th>業種</th>\n",
              "    </tr>\n",
              "  </thead>\n",
              "  <tbody>\n",
              "    <tr>\n",
              "      <th>0</th>\n",
              "      <td>極洋</td>\n",
              "      <td>1301</td>\n",
              "      <td>水産・農林業</td>\n",
              "    </tr>\n",
              "    <tr>\n",
              "      <th>16</th>\n",
              "      <td>ニッスイ</td>\n",
              "      <td>1332</td>\n",
              "      <td>水産・農林業</td>\n",
              "    </tr>\n",
              "    <tr>\n",
              "      <th>17</th>\n",
              "      <td>マルハニチロ</td>\n",
              "      <td>1333</td>\n",
              "      <td>水産・農林業</td>\n",
              "    </tr>\n",
              "    <tr>\n",
              "      <th>33</th>\n",
              "      <td>雪国まいたけ</td>\n",
              "      <td>1375</td>\n",
              "      <td>水産・農林業</td>\n",
              "    </tr>\n",
              "    <tr>\n",
              "      <th>35</th>\n",
              "      <td>サカタのタネ</td>\n",
              "      <td>1377</td>\n",
              "      <td>水産・農林業</td>\n",
              "    </tr>\n",
              "    <tr>\n",
              "      <th>...</th>\n",
              "      <td>...</td>\n",
              "      <td>...</td>\n",
              "      <td>...</td>\n",
              "    </tr>\n",
              "    <tr>\n",
              "      <th>4262</th>\n",
              "      <td>サンドラッグ</td>\n",
              "      <td>9989</td>\n",
              "      <td>小売業</td>\n",
              "    </tr>\n",
              "    <tr>\n",
              "      <th>4263</th>\n",
              "      <td>サックスバー　ホールディングス</td>\n",
              "      <td>9990</td>\n",
              "      <td>小売業</td>\n",
              "    </tr>\n",
              "    <tr>\n",
              "      <th>4264</th>\n",
              "      <td>ジェコス</td>\n",
              "      <td>9991</td>\n",
              "      <td>卸売業</td>\n",
              "    </tr>\n",
              "    <tr>\n",
              "      <th>4267</th>\n",
              "      <td>グローセル</td>\n",
              "      <td>9995</td>\n",
              "      <td>卸売業</td>\n",
              "    </tr>\n",
              "    <tr>\n",
              "      <th>4269</th>\n",
              "      <td>ベルーナ</td>\n",
              "      <td>9997</td>\n",
              "      <td>小売業</td>\n",
              "    </tr>\n",
              "  </tbody>\n",
              "</table>\n",
              "<p>1836 rows × 3 columns</p>\n",
              "</div>\n",
              "      <button class=\"colab-df-convert\" onclick=\"convertToInteractive('df-6ae146d4-2cdf-41ca-8a69-1c2e9dcdd167')\"\n",
              "              title=\"Convert this dataframe to an interactive table.\"\n",
              "              style=\"display:none;\">\n",
              "        \n",
              "  <svg xmlns=\"http://www.w3.org/2000/svg\" height=\"24px\"viewBox=\"0 0 24 24\"\n",
              "       width=\"24px\">\n",
              "    <path d=\"M0 0h24v24H0V0z\" fill=\"none\"/>\n",
              "    <path d=\"M18.56 5.44l.94 2.06.94-2.06 2.06-.94-2.06-.94-.94-2.06-.94 2.06-2.06.94zm-11 1L8.5 8.5l.94-2.06 2.06-.94-2.06-.94L8.5 2.5l-.94 2.06-2.06.94zm10 10l.94 2.06.94-2.06 2.06-.94-2.06-.94-.94-2.06-.94 2.06-2.06.94z\"/><path d=\"M17.41 7.96l-1.37-1.37c-.4-.4-.92-.59-1.43-.59-.52 0-1.04.2-1.43.59L10.3 9.45l-7.72 7.72c-.78.78-.78 2.05 0 2.83L4 21.41c.39.39.9.59 1.41.59.51 0 1.02-.2 1.41-.59l7.78-7.78 2.81-2.81c.8-.78.8-2.07 0-2.86zM5.41 20L4 18.59l7.72-7.72 1.47 1.35L5.41 20z\"/>\n",
              "  </svg>\n",
              "      </button>\n",
              "      \n",
              "  <style>\n",
              "    .colab-df-container {\n",
              "      display:flex;\n",
              "      flex-wrap:wrap;\n",
              "      gap: 12px;\n",
              "    }\n",
              "\n",
              "    .colab-df-convert {\n",
              "      background-color: #E8F0FE;\n",
              "      border: none;\n",
              "      border-radius: 50%;\n",
              "      cursor: pointer;\n",
              "      display: none;\n",
              "      fill: #1967D2;\n",
              "      height: 32px;\n",
              "      padding: 0 0 0 0;\n",
              "      width: 32px;\n",
              "    }\n",
              "\n",
              "    .colab-df-convert:hover {\n",
              "      background-color: #E2EBFA;\n",
              "      box-shadow: 0px 1px 2px rgba(60, 64, 67, 0.3), 0px 1px 3px 1px rgba(60, 64, 67, 0.15);\n",
              "      fill: #174EA6;\n",
              "    }\n",
              "\n",
              "    [theme=dark] .colab-df-convert {\n",
              "      background-color: #3B4455;\n",
              "      fill: #D2E3FC;\n",
              "    }\n",
              "\n",
              "    [theme=dark] .colab-df-convert:hover {\n",
              "      background-color: #434B5C;\n",
              "      box-shadow: 0px 1px 3px 1px rgba(0, 0, 0, 0.15);\n",
              "      filter: drop-shadow(0px 1px 2px rgba(0, 0, 0, 0.3));\n",
              "      fill: #FFFFFF;\n",
              "    }\n",
              "  </style>\n",
              "\n",
              "      <script>\n",
              "        const buttonEl =\n",
              "          document.querySelector('#df-6ae146d4-2cdf-41ca-8a69-1c2e9dcdd167 button.colab-df-convert');\n",
              "        buttonEl.style.display =\n",
              "          google.colab.kernel.accessAllowed ? 'block' : 'none';\n",
              "\n",
              "        async function convertToInteractive(key) {\n",
              "          const element = document.querySelector('#df-6ae146d4-2cdf-41ca-8a69-1c2e9dcdd167');\n",
              "          const dataTable =\n",
              "            await google.colab.kernel.invokeFunction('convertToInteractive',\n",
              "                                                     [key], {});\n",
              "          if (!dataTable) return;\n",
              "\n",
              "          const docLinkHtml = 'Like what you see? Visit the ' +\n",
              "            '<a target=\"_blank\" href=https://colab.research.google.com/notebooks/data_table.ipynb>data table notebook</a>'\n",
              "            + ' to learn more about interactive tables.';\n",
              "          element.innerHTML = '';\n",
              "          dataTable['output_type'] = 'display_data';\n",
              "          await google.colab.output.renderOutput(dataTable, element);\n",
              "          const docLink = document.createElement('div');\n",
              "          docLink.innerHTML = docLinkHtml;\n",
              "          element.appendChild(docLink);\n",
              "        }\n",
              "      </script>\n",
              "    </div>\n",
              "  </div>\n",
              "  "
            ]
          },
          "metadata": {},
          "execution_count": 38
        }
      ]
    },
    {
      "cell_type": "code",
      "source": [
        "# 東証プライムの銘柄コードを以下の条件に合致するもののみにフィルタリング\n",
        "# 出来高　... 50万株以上\n",
        "# 株価 ... 5000円以下\n",
        "filtered_tse_prime = filtered_ticker(tse_prime, min_volume=500000, max_price=5000)\n",
        "filtered_tse_prime"
      ],
      "metadata": {
        "colab": {
          "base_uri": "https://localhost:8080/",
          "height": 563
        },
        "id": "Lt7tusmdCsG9",
        "outputId": "3634c0e0-f5f9-40f9-d5f6-5b5ab59ae550"
      },
      "execution_count": 39,
      "outputs": [
        {
          "output_type": "stream",
          "name": "stdout",
          "text": [
            "Not Found: No data found, symbol may be delisted\n",
            "銘柄コード[25935]の株価情報を取得できなかったため、スキップしました。\n",
            "'timestamp'\n",
            "銘柄コード[5128]の株価情報を取得できなかったため、スキップしました。\n",
            "'timestamp'\n",
            "銘柄コード[6924]の株価情報を取得できなかったため、スキップしました。\n",
            "'timestamp'\n",
            "銘柄コード[8096]の株価情報を取得できなかったため、スキップしました。\n"
          ]
        },
        {
          "output_type": "execute_result",
          "data": {
            "text/plain": [
              "               銘柄名   コード      業種      出来高           株価\n",
              "16            ニッスイ  1332  水産・農林業  1242400   649.299988\n",
              "61           タマホーム  1419     建設業   882700  3210.000000\n",
              "67            ベステラ  1433     建設業   520800  1221.000000\n",
              "122   三井松島ホールディングス  1518      鉱業   563300  2569.000000\n",
              "159          ＩＮＰＥＸ  1605      鉱業  8997100  1600.000000\n",
              "...            ...   ...     ...      ...          ...\n",
              "4092  エヌ・ティ・ティ・データ  9613  情報・通信業  3249600  2134.000000\n",
              "4153           丹青社  9743   サービス業  1126300   788.000000\n",
              "4173  ベネッセホールディングス  9783   サービス業   523100  1836.000000\n",
              "4191   ヤマダホールディングス  9831     小売業  2790600   430.600006\n",
              "4246     ミスミグループ本社  9962     卸売業  1334000  3121.000000\n",
              "\n",
              "[366 rows x 5 columns]"
            ],
            "text/html": [
              "\n",
              "  <div id=\"df-507338de-1994-4279-b918-f1291f9659fc\">\n",
              "    <div class=\"colab-df-container\">\n",
              "      <div>\n",
              "<style scoped>\n",
              "    .dataframe tbody tr th:only-of-type {\n",
              "        vertical-align: middle;\n",
              "    }\n",
              "\n",
              "    .dataframe tbody tr th {\n",
              "        vertical-align: top;\n",
              "    }\n",
              "\n",
              "    .dataframe thead th {\n",
              "        text-align: right;\n",
              "    }\n",
              "</style>\n",
              "<table border=\"1\" class=\"dataframe\">\n",
              "  <thead>\n",
              "    <tr style=\"text-align: right;\">\n",
              "      <th></th>\n",
              "      <th>銘柄名</th>\n",
              "      <th>コード</th>\n",
              "      <th>業種</th>\n",
              "      <th>出来高</th>\n",
              "      <th>株価</th>\n",
              "    </tr>\n",
              "  </thead>\n",
              "  <tbody>\n",
              "    <tr>\n",
              "      <th>16</th>\n",
              "      <td>ニッスイ</td>\n",
              "      <td>1332</td>\n",
              "      <td>水産・農林業</td>\n",
              "      <td>1242400</td>\n",
              "      <td>649.299988</td>\n",
              "    </tr>\n",
              "    <tr>\n",
              "      <th>61</th>\n",
              "      <td>タマホーム</td>\n",
              "      <td>1419</td>\n",
              "      <td>建設業</td>\n",
              "      <td>882700</td>\n",
              "      <td>3210.000000</td>\n",
              "    </tr>\n",
              "    <tr>\n",
              "      <th>67</th>\n",
              "      <td>ベステラ</td>\n",
              "      <td>1433</td>\n",
              "      <td>建設業</td>\n",
              "      <td>520800</td>\n",
              "      <td>1221.000000</td>\n",
              "    </tr>\n",
              "    <tr>\n",
              "      <th>122</th>\n",
              "      <td>三井松島ホールディングス</td>\n",
              "      <td>1518</td>\n",
              "      <td>鉱業</td>\n",
              "      <td>563300</td>\n",
              "      <td>2569.000000</td>\n",
              "    </tr>\n",
              "    <tr>\n",
              "      <th>159</th>\n",
              "      <td>ＩＮＰＥＸ</td>\n",
              "      <td>1605</td>\n",
              "      <td>鉱業</td>\n",
              "      <td>8997100</td>\n",
              "      <td>1600.000000</td>\n",
              "    </tr>\n",
              "    <tr>\n",
              "      <th>...</th>\n",
              "      <td>...</td>\n",
              "      <td>...</td>\n",
              "      <td>...</td>\n",
              "      <td>...</td>\n",
              "      <td>...</td>\n",
              "    </tr>\n",
              "    <tr>\n",
              "      <th>4092</th>\n",
              "      <td>エヌ・ティ・ティ・データ</td>\n",
              "      <td>9613</td>\n",
              "      <td>情報・通信業</td>\n",
              "      <td>3249600</td>\n",
              "      <td>2134.000000</td>\n",
              "    </tr>\n",
              "    <tr>\n",
              "      <th>4153</th>\n",
              "      <td>丹青社</td>\n",
              "      <td>9743</td>\n",
              "      <td>サービス業</td>\n",
              "      <td>1126300</td>\n",
              "      <td>788.000000</td>\n",
              "    </tr>\n",
              "    <tr>\n",
              "      <th>4173</th>\n",
              "      <td>ベネッセホールディングス</td>\n",
              "      <td>9783</td>\n",
              "      <td>サービス業</td>\n",
              "      <td>523100</td>\n",
              "      <td>1836.000000</td>\n",
              "    </tr>\n",
              "    <tr>\n",
              "      <th>4191</th>\n",
              "      <td>ヤマダホールディングス</td>\n",
              "      <td>9831</td>\n",
              "      <td>小売業</td>\n",
              "      <td>2790600</td>\n",
              "      <td>430.600006</td>\n",
              "    </tr>\n",
              "    <tr>\n",
              "      <th>4246</th>\n",
              "      <td>ミスミグループ本社</td>\n",
              "      <td>9962</td>\n",
              "      <td>卸売業</td>\n",
              "      <td>1334000</td>\n",
              "      <td>3121.000000</td>\n",
              "    </tr>\n",
              "  </tbody>\n",
              "</table>\n",
              "<p>366 rows × 5 columns</p>\n",
              "</div>\n",
              "      <button class=\"colab-df-convert\" onclick=\"convertToInteractive('df-507338de-1994-4279-b918-f1291f9659fc')\"\n",
              "              title=\"Convert this dataframe to an interactive table.\"\n",
              "              style=\"display:none;\">\n",
              "        \n",
              "  <svg xmlns=\"http://www.w3.org/2000/svg\" height=\"24px\"viewBox=\"0 0 24 24\"\n",
              "       width=\"24px\">\n",
              "    <path d=\"M0 0h24v24H0V0z\" fill=\"none\"/>\n",
              "    <path d=\"M18.56 5.44l.94 2.06.94-2.06 2.06-.94-2.06-.94-.94-2.06-.94 2.06-2.06.94zm-11 1L8.5 8.5l.94-2.06 2.06-.94-2.06-.94L8.5 2.5l-.94 2.06-2.06.94zm10 10l.94 2.06.94-2.06 2.06-.94-2.06-.94-.94-2.06-.94 2.06-2.06.94z\"/><path d=\"M17.41 7.96l-1.37-1.37c-.4-.4-.92-.59-1.43-.59-.52 0-1.04.2-1.43.59L10.3 9.45l-7.72 7.72c-.78.78-.78 2.05 0 2.83L4 21.41c.39.39.9.59 1.41.59.51 0 1.02-.2 1.41-.59l7.78-7.78 2.81-2.81c.8-.78.8-2.07 0-2.86zM5.41 20L4 18.59l7.72-7.72 1.47 1.35L5.41 20z\"/>\n",
              "  </svg>\n",
              "      </button>\n",
              "      \n",
              "  <style>\n",
              "    .colab-df-container {\n",
              "      display:flex;\n",
              "      flex-wrap:wrap;\n",
              "      gap: 12px;\n",
              "    }\n",
              "\n",
              "    .colab-df-convert {\n",
              "      background-color: #E8F0FE;\n",
              "      border: none;\n",
              "      border-radius: 50%;\n",
              "      cursor: pointer;\n",
              "      display: none;\n",
              "      fill: #1967D2;\n",
              "      height: 32px;\n",
              "      padding: 0 0 0 0;\n",
              "      width: 32px;\n",
              "    }\n",
              "\n",
              "    .colab-df-convert:hover {\n",
              "      background-color: #E2EBFA;\n",
              "      box-shadow: 0px 1px 2px rgba(60, 64, 67, 0.3), 0px 1px 3px 1px rgba(60, 64, 67, 0.15);\n",
              "      fill: #174EA6;\n",
              "    }\n",
              "\n",
              "    [theme=dark] .colab-df-convert {\n",
              "      background-color: #3B4455;\n",
              "      fill: #D2E3FC;\n",
              "    }\n",
              "\n",
              "    [theme=dark] .colab-df-convert:hover {\n",
              "      background-color: #434B5C;\n",
              "      box-shadow: 0px 1px 3px 1px rgba(0, 0, 0, 0.15);\n",
              "      filter: drop-shadow(0px 1px 2px rgba(0, 0, 0, 0.3));\n",
              "      fill: #FFFFFF;\n",
              "    }\n",
              "  </style>\n",
              "\n",
              "      <script>\n",
              "        const buttonEl =\n",
              "          document.querySelector('#df-507338de-1994-4279-b918-f1291f9659fc button.colab-df-convert');\n",
              "        buttonEl.style.display =\n",
              "          google.colab.kernel.accessAllowed ? 'block' : 'none';\n",
              "\n",
              "        async function convertToInteractive(key) {\n",
              "          const element = document.querySelector('#df-507338de-1994-4279-b918-f1291f9659fc');\n",
              "          const dataTable =\n",
              "            await google.colab.kernel.invokeFunction('convertToInteractive',\n",
              "                                                     [key], {});\n",
              "          if (!dataTable) return;\n",
              "\n",
              "          const docLinkHtml = 'Like what you see? Visit the ' +\n",
              "            '<a target=\"_blank\" href=https://colab.research.google.com/notebooks/data_table.ipynb>data table notebook</a>'\n",
              "            + ' to learn more about interactive tables.';\n",
              "          element.innerHTML = '';\n",
              "          dataTable['output_type'] = 'display_data';\n",
              "          await google.colab.output.renderOutput(dataTable, element);\n",
              "          const docLink = document.createElement('div');\n",
              "          docLink.innerHTML = docLinkHtml;\n",
              "          element.appendChild(docLink);\n",
              "        }\n",
              "      </script>\n",
              "    </div>\n",
              "  </div>\n",
              "  "
            ]
          },
          "metadata": {},
          "execution_count": 39
        }
      ]
    },
    {
      "cell_type": "code",
      "source": [
        "# 株価情報が上昇トレンドのパーフェクトオーダー（週足）かどうかの判断\n",
        "filtered_perfect_order_week_tse_prime = filtered_ticker(filtered_tse_prime, perfect_order={'mas': [5, 20, 60], 'period_type': 'W'})\n",
        "filtered_perfect_order_week_tse_prime"
      ],
      "metadata": {
        "colab": {
          "base_uri": "https://localhost:8080/",
          "height": 424
        },
        "id": "XLTsjg12Cx20",
        "outputId": "54abbafb-c232-4f72-ea89-7be8592becad"
      },
      "execution_count": 45,
      "outputs": [
        {
          "output_type": "execute_result",
          "data": {
            "text/plain": [
              "               銘柄名   コード      業種      出来高           株価\n",
              "16            ニッスイ  1332  水産・農林業  1242400   649.299988\n",
              "61           タマホーム  1419     建設業   882700  3210.000000\n",
              "225   コムシスホールディングス  1721     建設業   546800  2785.000000\n",
              "253           大成建設  1801     建設業   667800  4617.000000\n",
              "254            大林組  1802     建設業  2224500  1176.000000\n",
              "...            ...   ...     ...      ...          ...\n",
              "4052          東北電力  9506  電気・ガス業  3449400   895.000000\n",
              "4053          四国電力  9507  電気・ガス業  1494400   992.799988\n",
              "4054          九州電力  9508  電気・ガス業  2328000   924.900024\n",
              "4055         北海道電力  9509  電気・ガス業  1006600   624.200012\n",
              "4062          東京瓦斯  9531  電気・ガス業  1819900  3217.000000\n",
              "\n",
              "[180 rows x 5 columns]"
            ],
            "text/html": [
              "\n",
              "  <div id=\"df-0d20b03f-885b-42d2-b4e6-bf918b04ad4d\">\n",
              "    <div class=\"colab-df-container\">\n",
              "      <div>\n",
              "<style scoped>\n",
              "    .dataframe tbody tr th:only-of-type {\n",
              "        vertical-align: middle;\n",
              "    }\n",
              "\n",
              "    .dataframe tbody tr th {\n",
              "        vertical-align: top;\n",
              "    }\n",
              "\n",
              "    .dataframe thead th {\n",
              "        text-align: right;\n",
              "    }\n",
              "</style>\n",
              "<table border=\"1\" class=\"dataframe\">\n",
              "  <thead>\n",
              "    <tr style=\"text-align: right;\">\n",
              "      <th></th>\n",
              "      <th>銘柄名</th>\n",
              "      <th>コード</th>\n",
              "      <th>業種</th>\n",
              "      <th>出来高</th>\n",
              "      <th>株価</th>\n",
              "    </tr>\n",
              "  </thead>\n",
              "  <tbody>\n",
              "    <tr>\n",
              "      <th>16</th>\n",
              "      <td>ニッスイ</td>\n",
              "      <td>1332</td>\n",
              "      <td>水産・農林業</td>\n",
              "      <td>1242400</td>\n",
              "      <td>649.299988</td>\n",
              "    </tr>\n",
              "    <tr>\n",
              "      <th>61</th>\n",
              "      <td>タマホーム</td>\n",
              "      <td>1419</td>\n",
              "      <td>建設業</td>\n",
              "      <td>882700</td>\n",
              "      <td>3210.000000</td>\n",
              "    </tr>\n",
              "    <tr>\n",
              "      <th>225</th>\n",
              "      <td>コムシスホールディングス</td>\n",
              "      <td>1721</td>\n",
              "      <td>建設業</td>\n",
              "      <td>546800</td>\n",
              "      <td>2785.000000</td>\n",
              "    </tr>\n",
              "    <tr>\n",
              "      <th>253</th>\n",
              "      <td>大成建設</td>\n",
              "      <td>1801</td>\n",
              "      <td>建設業</td>\n",
              "      <td>667800</td>\n",
              "      <td>4617.000000</td>\n",
              "    </tr>\n",
              "    <tr>\n",
              "      <th>254</th>\n",
              "      <td>大林組</td>\n",
              "      <td>1802</td>\n",
              "      <td>建設業</td>\n",
              "      <td>2224500</td>\n",
              "      <td>1176.000000</td>\n",
              "    </tr>\n",
              "    <tr>\n",
              "      <th>...</th>\n",
              "      <td>...</td>\n",
              "      <td>...</td>\n",
              "      <td>...</td>\n",
              "      <td>...</td>\n",
              "      <td>...</td>\n",
              "    </tr>\n",
              "    <tr>\n",
              "      <th>4052</th>\n",
              "      <td>東北電力</td>\n",
              "      <td>9506</td>\n",
              "      <td>電気・ガス業</td>\n",
              "      <td>3449400</td>\n",
              "      <td>895.000000</td>\n",
              "    </tr>\n",
              "    <tr>\n",
              "      <th>4053</th>\n",
              "      <td>四国電力</td>\n",
              "      <td>9507</td>\n",
              "      <td>電気・ガス業</td>\n",
              "      <td>1494400</td>\n",
              "      <td>992.799988</td>\n",
              "    </tr>\n",
              "    <tr>\n",
              "      <th>4054</th>\n",
              "      <td>九州電力</td>\n",
              "      <td>9508</td>\n",
              "      <td>電気・ガス業</td>\n",
              "      <td>2328000</td>\n",
              "      <td>924.900024</td>\n",
              "    </tr>\n",
              "    <tr>\n",
              "      <th>4055</th>\n",
              "      <td>北海道電力</td>\n",
              "      <td>9509</td>\n",
              "      <td>電気・ガス業</td>\n",
              "      <td>1006600</td>\n",
              "      <td>624.200012</td>\n",
              "    </tr>\n",
              "    <tr>\n",
              "      <th>4062</th>\n",
              "      <td>東京瓦斯</td>\n",
              "      <td>9531</td>\n",
              "      <td>電気・ガス業</td>\n",
              "      <td>1819900</td>\n",
              "      <td>3217.000000</td>\n",
              "    </tr>\n",
              "  </tbody>\n",
              "</table>\n",
              "<p>180 rows × 5 columns</p>\n",
              "</div>\n",
              "      <button class=\"colab-df-convert\" onclick=\"convertToInteractive('df-0d20b03f-885b-42d2-b4e6-bf918b04ad4d')\"\n",
              "              title=\"Convert this dataframe to an interactive table.\"\n",
              "              style=\"display:none;\">\n",
              "        \n",
              "  <svg xmlns=\"http://www.w3.org/2000/svg\" height=\"24px\"viewBox=\"0 0 24 24\"\n",
              "       width=\"24px\">\n",
              "    <path d=\"M0 0h24v24H0V0z\" fill=\"none\"/>\n",
              "    <path d=\"M18.56 5.44l.94 2.06.94-2.06 2.06-.94-2.06-.94-.94-2.06-.94 2.06-2.06.94zm-11 1L8.5 8.5l.94-2.06 2.06-.94-2.06-.94L8.5 2.5l-.94 2.06-2.06.94zm10 10l.94 2.06.94-2.06 2.06-.94-2.06-.94-.94-2.06-.94 2.06-2.06.94z\"/><path d=\"M17.41 7.96l-1.37-1.37c-.4-.4-.92-.59-1.43-.59-.52 0-1.04.2-1.43.59L10.3 9.45l-7.72 7.72c-.78.78-.78 2.05 0 2.83L4 21.41c.39.39.9.59 1.41.59.51 0 1.02-.2 1.41-.59l7.78-7.78 2.81-2.81c.8-.78.8-2.07 0-2.86zM5.41 20L4 18.59l7.72-7.72 1.47 1.35L5.41 20z\"/>\n",
              "  </svg>\n",
              "      </button>\n",
              "      \n",
              "  <style>\n",
              "    .colab-df-container {\n",
              "      display:flex;\n",
              "      flex-wrap:wrap;\n",
              "      gap: 12px;\n",
              "    }\n",
              "\n",
              "    .colab-df-convert {\n",
              "      background-color: #E8F0FE;\n",
              "      border: none;\n",
              "      border-radius: 50%;\n",
              "      cursor: pointer;\n",
              "      display: none;\n",
              "      fill: #1967D2;\n",
              "      height: 32px;\n",
              "      padding: 0 0 0 0;\n",
              "      width: 32px;\n",
              "    }\n",
              "\n",
              "    .colab-df-convert:hover {\n",
              "      background-color: #E2EBFA;\n",
              "      box-shadow: 0px 1px 2px rgba(60, 64, 67, 0.3), 0px 1px 3px 1px rgba(60, 64, 67, 0.15);\n",
              "      fill: #174EA6;\n",
              "    }\n",
              "\n",
              "    [theme=dark] .colab-df-convert {\n",
              "      background-color: #3B4455;\n",
              "      fill: #D2E3FC;\n",
              "    }\n",
              "\n",
              "    [theme=dark] .colab-df-convert:hover {\n",
              "      background-color: #434B5C;\n",
              "      box-shadow: 0px 1px 3px 1px rgba(0, 0, 0, 0.15);\n",
              "      filter: drop-shadow(0px 1px 2px rgba(0, 0, 0, 0.3));\n",
              "      fill: #FFFFFF;\n",
              "    }\n",
              "  </style>\n",
              "\n",
              "      <script>\n",
              "        const buttonEl =\n",
              "          document.querySelector('#df-0d20b03f-885b-42d2-b4e6-bf918b04ad4d button.colab-df-convert');\n",
              "        buttonEl.style.display =\n",
              "          google.colab.kernel.accessAllowed ? 'block' : 'none';\n",
              "\n",
              "        async function convertToInteractive(key) {\n",
              "          const element = document.querySelector('#df-0d20b03f-885b-42d2-b4e6-bf918b04ad4d');\n",
              "          const dataTable =\n",
              "            await google.colab.kernel.invokeFunction('convertToInteractive',\n",
              "                                                     [key], {});\n",
              "          if (!dataTable) return;\n",
              "\n",
              "          const docLinkHtml = 'Like what you see? Visit the ' +\n",
              "            '<a target=\"_blank\" href=https://colab.research.google.com/notebooks/data_table.ipynb>data table notebook</a>'\n",
              "            + ' to learn more about interactive tables.';\n",
              "          element.innerHTML = '';\n",
              "          dataTable['output_type'] = 'display_data';\n",
              "          await google.colab.output.renderOutput(dataTable, element);\n",
              "          const docLink = document.createElement('div');\n",
              "          docLink.innerHTML = docLinkHtml;\n",
              "          element.appendChild(docLink);\n",
              "        }\n",
              "      </script>\n",
              "    </div>\n",
              "  </div>\n",
              "  "
            ]
          },
          "metadata": {},
          "execution_count": 45
        }
      ]
    },
    {
      "cell_type": "code",
      "source": [
        "# 株価情報が上昇トレンドのパーフェクトオーダー（日足）かどうかの判断\n",
        "filtered_perfect_order_week_day_tse_prime = filtered_ticker(filtered_perfect_order_week_tse_prime,  perfect_order={'mas': [5, 20, 60]})\n",
        "filtered_perfect_order_week_day_tse_prime"
      ],
      "metadata": {
        "colab": {
          "base_uri": "https://localhost:8080/",
          "height": 424
        },
        "id": "bTcHAJgLC_eb",
        "outputId": "18709e72-48e9-4367-b895-0e6f455c88fa"
      },
      "execution_count": 46,
      "outputs": [
        {
          "output_type": "execute_result",
          "data": {
            "text/plain": [
              "               銘柄名   コード      業種      出来高           株価\n",
              "16            ニッスイ  1332  水産・農林業  1242400   649.299988\n",
              "225   コムシスホールディングス  1721     建設業   546800  2785.000000\n",
              "254            大林組  1802     建設業  2224500  1176.000000\n",
              "255           清水建設  1803     建設業  2063000   878.599976\n",
              "258    長谷工コーポレーション  1808     建設業   930200  1704.000000\n",
              "...            ...   ...     ...      ...          ...\n",
              "4052          東北電力  9506  電気・ガス業  3449400   895.000000\n",
              "4053          四国電力  9507  電気・ガス業  1494400   992.799988\n",
              "4054          九州電力  9508  電気・ガス業  2328000   924.900024\n",
              "4055         北海道電力  9509  電気・ガス業  1006600   624.200012\n",
              "4062          東京瓦斯  9531  電気・ガス業  1819900  3217.000000\n",
              "\n",
              "[146 rows x 5 columns]"
            ],
            "text/html": [
              "\n",
              "  <div id=\"df-91728cca-d00a-435e-86a4-b78f91b465d9\">\n",
              "    <div class=\"colab-df-container\">\n",
              "      <div>\n",
              "<style scoped>\n",
              "    .dataframe tbody tr th:only-of-type {\n",
              "        vertical-align: middle;\n",
              "    }\n",
              "\n",
              "    .dataframe tbody tr th {\n",
              "        vertical-align: top;\n",
              "    }\n",
              "\n",
              "    .dataframe thead th {\n",
              "        text-align: right;\n",
              "    }\n",
              "</style>\n",
              "<table border=\"1\" class=\"dataframe\">\n",
              "  <thead>\n",
              "    <tr style=\"text-align: right;\">\n",
              "      <th></th>\n",
              "      <th>銘柄名</th>\n",
              "      <th>コード</th>\n",
              "      <th>業種</th>\n",
              "      <th>出来高</th>\n",
              "      <th>株価</th>\n",
              "    </tr>\n",
              "  </thead>\n",
              "  <tbody>\n",
              "    <tr>\n",
              "      <th>16</th>\n",
              "      <td>ニッスイ</td>\n",
              "      <td>1332</td>\n",
              "      <td>水産・農林業</td>\n",
              "      <td>1242400</td>\n",
              "      <td>649.299988</td>\n",
              "    </tr>\n",
              "    <tr>\n",
              "      <th>225</th>\n",
              "      <td>コムシスホールディングス</td>\n",
              "      <td>1721</td>\n",
              "      <td>建設業</td>\n",
              "      <td>546800</td>\n",
              "      <td>2785.000000</td>\n",
              "    </tr>\n",
              "    <tr>\n",
              "      <th>254</th>\n",
              "      <td>大林組</td>\n",
              "      <td>1802</td>\n",
              "      <td>建設業</td>\n",
              "      <td>2224500</td>\n",
              "      <td>1176.000000</td>\n",
              "    </tr>\n",
              "    <tr>\n",
              "      <th>255</th>\n",
              "      <td>清水建設</td>\n",
              "      <td>1803</td>\n",
              "      <td>建設業</td>\n",
              "      <td>2063000</td>\n",
              "      <td>878.599976</td>\n",
              "    </tr>\n",
              "    <tr>\n",
              "      <th>258</th>\n",
              "      <td>長谷工コーポレーション</td>\n",
              "      <td>1808</td>\n",
              "      <td>建設業</td>\n",
              "      <td>930200</td>\n",
              "      <td>1704.000000</td>\n",
              "    </tr>\n",
              "    <tr>\n",
              "      <th>...</th>\n",
              "      <td>...</td>\n",
              "      <td>...</td>\n",
              "      <td>...</td>\n",
              "      <td>...</td>\n",
              "      <td>...</td>\n",
              "    </tr>\n",
              "    <tr>\n",
              "      <th>4052</th>\n",
              "      <td>東北電力</td>\n",
              "      <td>9506</td>\n",
              "      <td>電気・ガス業</td>\n",
              "      <td>3449400</td>\n",
              "      <td>895.000000</td>\n",
              "    </tr>\n",
              "    <tr>\n",
              "      <th>4053</th>\n",
              "      <td>四国電力</td>\n",
              "      <td>9507</td>\n",
              "      <td>電気・ガス業</td>\n",
              "      <td>1494400</td>\n",
              "      <td>992.799988</td>\n",
              "    </tr>\n",
              "    <tr>\n",
              "      <th>4054</th>\n",
              "      <td>九州電力</td>\n",
              "      <td>9508</td>\n",
              "      <td>電気・ガス業</td>\n",
              "      <td>2328000</td>\n",
              "      <td>924.900024</td>\n",
              "    </tr>\n",
              "    <tr>\n",
              "      <th>4055</th>\n",
              "      <td>北海道電力</td>\n",
              "      <td>9509</td>\n",
              "      <td>電気・ガス業</td>\n",
              "      <td>1006600</td>\n",
              "      <td>624.200012</td>\n",
              "    </tr>\n",
              "    <tr>\n",
              "      <th>4062</th>\n",
              "      <td>東京瓦斯</td>\n",
              "      <td>9531</td>\n",
              "      <td>電気・ガス業</td>\n",
              "      <td>1819900</td>\n",
              "      <td>3217.000000</td>\n",
              "    </tr>\n",
              "  </tbody>\n",
              "</table>\n",
              "<p>146 rows × 5 columns</p>\n",
              "</div>\n",
              "      <button class=\"colab-df-convert\" onclick=\"convertToInteractive('df-91728cca-d00a-435e-86a4-b78f91b465d9')\"\n",
              "              title=\"Convert this dataframe to an interactive table.\"\n",
              "              style=\"display:none;\">\n",
              "        \n",
              "  <svg xmlns=\"http://www.w3.org/2000/svg\" height=\"24px\"viewBox=\"0 0 24 24\"\n",
              "       width=\"24px\">\n",
              "    <path d=\"M0 0h24v24H0V0z\" fill=\"none\"/>\n",
              "    <path d=\"M18.56 5.44l.94 2.06.94-2.06 2.06-.94-2.06-.94-.94-2.06-.94 2.06-2.06.94zm-11 1L8.5 8.5l.94-2.06 2.06-.94-2.06-.94L8.5 2.5l-.94 2.06-2.06.94zm10 10l.94 2.06.94-2.06 2.06-.94-2.06-.94-.94-2.06-.94 2.06-2.06.94z\"/><path d=\"M17.41 7.96l-1.37-1.37c-.4-.4-.92-.59-1.43-.59-.52 0-1.04.2-1.43.59L10.3 9.45l-7.72 7.72c-.78.78-.78 2.05 0 2.83L4 21.41c.39.39.9.59 1.41.59.51 0 1.02-.2 1.41-.59l7.78-7.78 2.81-2.81c.8-.78.8-2.07 0-2.86zM5.41 20L4 18.59l7.72-7.72 1.47 1.35L5.41 20z\"/>\n",
              "  </svg>\n",
              "      </button>\n",
              "      \n",
              "  <style>\n",
              "    .colab-df-container {\n",
              "      display:flex;\n",
              "      flex-wrap:wrap;\n",
              "      gap: 12px;\n",
              "    }\n",
              "\n",
              "    .colab-df-convert {\n",
              "      background-color: #E8F0FE;\n",
              "      border: none;\n",
              "      border-radius: 50%;\n",
              "      cursor: pointer;\n",
              "      display: none;\n",
              "      fill: #1967D2;\n",
              "      height: 32px;\n",
              "      padding: 0 0 0 0;\n",
              "      width: 32px;\n",
              "    }\n",
              "\n",
              "    .colab-df-convert:hover {\n",
              "      background-color: #E2EBFA;\n",
              "      box-shadow: 0px 1px 2px rgba(60, 64, 67, 0.3), 0px 1px 3px 1px rgba(60, 64, 67, 0.15);\n",
              "      fill: #174EA6;\n",
              "    }\n",
              "\n",
              "    [theme=dark] .colab-df-convert {\n",
              "      background-color: #3B4455;\n",
              "      fill: #D2E3FC;\n",
              "    }\n",
              "\n",
              "    [theme=dark] .colab-df-convert:hover {\n",
              "      background-color: #434B5C;\n",
              "      box-shadow: 0px 1px 3px 1px rgba(0, 0, 0, 0.15);\n",
              "      filter: drop-shadow(0px 1px 2px rgba(0, 0, 0, 0.3));\n",
              "      fill: #FFFFFF;\n",
              "    }\n",
              "  </style>\n",
              "\n",
              "      <script>\n",
              "        const buttonEl =\n",
              "          document.querySelector('#df-91728cca-d00a-435e-86a4-b78f91b465d9 button.colab-df-convert');\n",
              "        buttonEl.style.display =\n",
              "          google.colab.kernel.accessAllowed ? 'block' : 'none';\n",
              "\n",
              "        async function convertToInteractive(key) {\n",
              "          const element = document.querySelector('#df-91728cca-d00a-435e-86a4-b78f91b465d9');\n",
              "          const dataTable =\n",
              "            await google.colab.kernel.invokeFunction('convertToInteractive',\n",
              "                                                     [key], {});\n",
              "          if (!dataTable) return;\n",
              "\n",
              "          const docLinkHtml = 'Like what you see? Visit the ' +\n",
              "            '<a target=\"_blank\" href=https://colab.research.google.com/notebooks/data_table.ipynb>data table notebook</a>'\n",
              "            + ' to learn more about interactive tables.';\n",
              "          element.innerHTML = '';\n",
              "          dataTable['output_type'] = 'display_data';\n",
              "          await google.colab.output.renderOutput(dataTable, element);\n",
              "          const docLink = document.createElement('div');\n",
              "          docLink.innerHTML = docLinkHtml;\n",
              "          element.appendChild(docLink);\n",
              "        }\n",
              "      </script>\n",
              "    </div>\n",
              "  </div>\n",
              "  "
            ]
          },
          "metadata": {},
          "execution_count": 46
        }
      ]
    },
    {
      "cell_type": "code",
      "source": [
        "# CSVファイル保存\n",
        "save_df_as_csv(filtered_perfect_order_week_day_tse_prime, '1_東証P_UPO')"
      ],
      "metadata": {
        "id": "wrx-b-gFJx_V"
      },
      "execution_count": 47,
      "outputs": []
    },
    {
      "cell_type": "code",
      "source": [
        "# 株価情報が下降トレンドのパーフェクトオーダー（週足）かどうかの判断\n",
        "filtered_reverse_perfect_order_week_tse_prime = filtered_ticker(filtered_tse_prime, perfect_order={'mas': [5, 20, 60], 'period_type': 'W', 'reverse': True})\n",
        "filtered_reverse_perfect_order_week_tse_prime"
      ],
      "metadata": {
        "id": "KhuSsFDRJ9c5"
      },
      "execution_count": null,
      "outputs": []
    },
    {
      "cell_type": "code",
      "source": [
        "# 株価情報が下降トレンドのパーフェクトオーダー（日足）かどうかの判断\n",
        "filtered_reverse_perfect_order_week_day_tse_prime = filtered_ticker(filtered_reverse_perfect_order_week_tse_prime, perfect_order={'mas': [5, 20, 60], 'reverse': True})\n",
        "filtered_reverse_perfect_order_week_day_tse_prime"
      ],
      "metadata": {
        "id": "IiPpaArxJ-pg"
      },
      "execution_count": null,
      "outputs": []
    },
    {
      "cell_type": "code",
      "source": [
        "# CSVファイル保存\n",
        "save_df_as_csv(filtered_reverse_perfect_order_week_day_tse_prime, '2_東証P_DPO')"
      ],
      "metadata": {
        "id": "MZCc6aUeJ-2v"
      },
      "execution_count": null,
      "outputs": []
    },
    {
      "cell_type": "markdown",
      "source": [
        "# 東証スタンダードをフィルタリングしてCSVとして保存"
      ],
      "metadata": {
        "id": "_4vOsD54KJYn"
      }
    },
    {
      "cell_type": "code",
      "source": [
        "# 東証スタンダード市場の銘柄コードを取得\n",
        "tse_standard = get_ticker_tse('standard')\n",
        "tse_standard"
      ],
      "metadata": {
        "id": "grGOoMjvJ-6c"
      },
      "execution_count": null,
      "outputs": []
    },
    {
      "cell_type": "code",
      "source": [
        "# 東証スタンダードの銘柄コードを以下の条件に合致するもののみにフィルタリング\n",
        "# 出来高　... 20万株以上\n",
        "# 株価 ... 5000円以下\n",
        "filtered_tse_standard = filtered_ticker(tse_standard, min_volume=200000, max_price=5000)\n",
        "filtered_tse_standard"
      ],
      "metadata": {
        "id": "8gL3w7nFKHL2"
      },
      "execution_count": null,
      "outputs": []
    },
    {
      "cell_type": "code",
      "source": [
        "# 株価情報が上昇トレンドのパーフェクトオーダー（週足）かどうかの判断\n",
        "filtered_perfect_order_week_tse_standard = filtered_ticker(filtered_tse_standard, perfect_order={'mas': [5, 20, 60], 'period_type': 'W'})\n",
        "filtered_perfect_order_week_tse_standard"
      ],
      "metadata": {
        "id": "8YP3ri-PKHSN"
      },
      "execution_count": null,
      "outputs": []
    },
    {
      "cell_type": "code",
      "source": [
        "# 株価情報が上昇トレンドのパーフェクトオーダー（日足）かどうかの判断\n",
        "filtered_perfect_order_week_day_tse_standard = filtered_ticker(filtered_perfect_order_week_tse_standard,  perfect_order={'mas': [5, 20, 60]})\n",
        "filtered_perfect_order_week_day_tse_standard"
      ],
      "metadata": {
        "id": "GSe4gAeNKPwy"
      },
      "execution_count": null,
      "outputs": []
    },
    {
      "cell_type": "code",
      "source": [
        "# CSVファイル保存\n",
        "save_df_as_csv(filtered_perfect_order_week_day_tse_standard, '3_東証S_UPO')"
      ],
      "metadata": {
        "id": "Nd6cyEdzKP3X"
      },
      "execution_count": null,
      "outputs": []
    },
    {
      "cell_type": "code",
      "source": [
        "# 株価情報が下降トレンドのパーフェクトオーダー（週足）かどうかの判断\n",
        "filtered_reverse_perfect_order_week_tse_standard = filtered_ticker(filtered_tse_standard, perfect_order={'mas': [5, 20, 60], 'period_type': 'W', 'reverse': True})\n",
        "filtered_reverse_perfect_order_week_tse_standard"
      ],
      "metadata": {
        "id": "IhjWedg0KP6N"
      },
      "execution_count": null,
      "outputs": []
    },
    {
      "cell_type": "code",
      "source": [
        "# 株価情報が下降トレンドのパーフェクトオーダー（日足）かどうかの判断\n",
        "filtered_reverse_perfect_order_week_day_tse_standard = filtered_ticker(filtered_reverse_perfect_order_week_tse_standard,  perfect_order={'mas': [5, 20, 60], 'reverse': True})\n",
        "filtered_reverse_perfect_order_week_day_tse_standard"
      ],
      "metadata": {
        "id": "k_BAbb98KHVX"
      },
      "execution_count": null,
      "outputs": []
    },
    {
      "cell_type": "code",
      "source": [
        "# CSVファイル保存\n",
        "save_df_as_csv(filtered_reverse_perfect_order_week_day_tse_standard, '4_東証S_DPO')"
      ],
      "metadata": {
        "id": "zFxSyotjKtcf"
      },
      "execution_count": null,
      "outputs": []
    },
    {
      "cell_type": "markdown",
      "source": [
        "# 東証グロースをフィルタリングしてCSVとして保存"
      ],
      "metadata": {
        "id": "QsDJtFJaKxoe"
      }
    },
    {
      "cell_type": "code",
      "source": [
        "# 東証スタンダード市場の銘柄コードを取得\n",
        "tse_grows = get_ticker_tse('grows')\n",
        "tse_grows"
      ],
      "metadata": {
        "id": "42J04J7tKtet"
      },
      "execution_count": null,
      "outputs": []
    },
    {
      "cell_type": "code",
      "source": [
        "# 東証グロースの銘柄コードを以下の条件に合致するもののみにフィルタリング\n",
        "# 出来高　... 20万株以上\n",
        "# 株価 ... 5000円以下\n",
        "filtered_tse_grows = filtered_ticker(tse_grows, min_volume=200000, max_price=5000)\n",
        "filtered_tse_grows"
      ],
      "metadata": {
        "id": "mmiwWLYDKtg6"
      },
      "execution_count": null,
      "outputs": []
    },
    {
      "cell_type": "code",
      "source": [
        "# 株価情報が上昇トレンドのパーフェクトオーダー（週足）かどうかの判断\n",
        "filtered_perfect_order_week_tse_grows = filtered_ticker(filtered_tse_grows, perfect_order={'mas': [5, 20, 60], 'period_type': 'W'})\n",
        "filtered_perfect_order_week_tse_grows"
      ],
      "metadata": {
        "id": "HY0P8Q5lKtjE"
      },
      "execution_count": null,
      "outputs": []
    },
    {
      "cell_type": "code",
      "source": [
        "# 株価情報が上昇トレンドのパーフェクトオーダー（日足）かどうかの判断\n",
        "filtered_perfect_order_week_day_tse_grows = filtered_ticker(filtered_perfect_order_week_tse_grows,  perfect_order={'mas': [5, 20, 60]})\n",
        "filtered_perfect_order_week_day_tse_grows"
      ],
      "metadata": {
        "id": "PrJFLGgDKtlO"
      },
      "execution_count": null,
      "outputs": []
    },
    {
      "cell_type": "code",
      "source": [
        "# CSVファイル保存\n",
        "save_df_as_csv(filtered_perfect_order_week_day_tse_grows, '5_東証G_UPO')"
      ],
      "metadata": {
        "id": "pskaEfqAKtna"
      },
      "execution_count": null,
      "outputs": []
    },
    {
      "cell_type": "code",
      "source": [
        "# 株価情報が下降トレンドのパーフェクトオーダー（週足）かどうかの判断\n",
        "filtered_reverse_perfect_order_week_tse_grows = filtered_ticker(filtered_tse_grows, perfect_order={'mas': [5, 20, 60], 'period_type': 'W', 'reverse': True})\n",
        "filtered_reverse_perfect_order_week_tse_grows"
      ],
      "metadata": {
        "id": "DxGeXZKWKtpk"
      },
      "execution_count": null,
      "outputs": []
    },
    {
      "cell_type": "code",
      "source": [
        "# 株価情報が下降トレンドのパーフェクトオーダー（日足）かどうかの判断\n",
        "filtered_reverse_perfect_order_week_day_tse_grows = filtered_ticker(filtered_reverse_perfect_order_week_tse_grows,  perfect_order={'mas': [5, 20, 60], 'reverse': True})\n",
        "filtered_reverse_perfect_order_week_day_tse_grows"
      ],
      "metadata": {
        "id": "xuOmkYoHK-tm"
      },
      "execution_count": null,
      "outputs": []
    },
    {
      "cell_type": "code",
      "source": [
        "# CSVファイル保存\n",
        "save_df_as_csv(filtered_reverse_perfect_order_week_day_tse_grows, '6_東証G_DPO')"
      ],
      "metadata": {
        "id": "J6uB58j0K-wF"
      },
      "execution_count": null,
      "outputs": []
    },
    {
      "cell_type": "markdown",
      "source": [
        "# 東証スタンダード・プライム選抜をCSVとして保存"
      ],
      "metadata": {
        "id": "1AsTBgHeLHc_"
      }
    },
    {
      "cell_type": "code",
      "source": [
        "# 東証スタンダードの銘柄コードを以下の条件に合致するもののみにフィルタリング\n",
        "# 出来高　... 50万株以上\n",
        "# 株価 ... 5000円以下\n",
        "filtered_tse_standard_2 = filtered_ticker(tse_standard, min_volume=500000, max_price=5000)\n",
        "filtered_tse_standard_2"
      ],
      "metadata": {
        "id": "963zrAK-K-yt"
      },
      "execution_count": null,
      "outputs": []
    },
    {
      "cell_type": "code",
      "source": [
        "# CSVファイル保存\n",
        "save_df_as_csv(filtered_tse_standard_2, '7_東証S_選抜')"
      ],
      "metadata": {
        "id": "ZM0sfHc7K-09"
      },
      "execution_count": null,
      "outputs": []
    },
    {
      "cell_type": "code",
      "source": [
        "# 東証グロースの銘柄コードを以下の条件に合致するもののみにフィルタリング\n",
        "# 出来高　... 50万株以上\n",
        "# 株価 ... 5000円以下\n",
        "filtered_tse_standard_2 = filtered_ticker(tse_grows, min_volume=500000, max_price=5000)\n",
        "filtered_tse_standard_2"
      ],
      "metadata": {
        "id": "HwMSECNcK-3d"
      },
      "execution_count": null,
      "outputs": []
    },
    {
      "cell_type": "code",
      "source": [
        "# CSVファイル保存\n",
        "save_df_as_csv(filtered_tse_standard_2, '8_東証G_選抜')"
      ],
      "metadata": {
        "id": "dPBdXqRDK-5h"
      },
      "execution_count": null,
      "outputs": []
    }
  ]
}